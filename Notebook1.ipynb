{
 "cells": [
  {
   "cell_type": "markdown",
   "metadata": {},
   "source": [
    "# Summer Bootcamp: Notebook 1\n",
    "\n",
    "This is the first notebook where we try to document everything covered in the course so far. Last time we covered a bunch of shell commands. These are commands that are inputted into Command Line Interfaces like the macOS Terminal and the Windows PowerShell. Open your own CLI and try these commands out:"
   ]
  },
  {
   "cell_type": "raw",
   "metadata": {},
   "source": [
    "cd – Change Directories.\n",
    "ls – List Directory Contents.\n",
    "cp – Copy a File, More Uses.\n",
    "mv – Move and Rename Files."
   ]
  },
  {
   "cell_type": "markdown",
   "metadata": {},
   "source": [
    "Starting Python off, one of the base concepts anyone learns when programming is that of _variables_. Just like in calculus, we can assign a value to a simplified and human-readable variable; think of these as shortcuts. We can then operate on these variables as we see fit."
   ]
  },
  {
   "cell_type": "code",
   "execution_count": 25,
   "metadata": {},
   "outputs": [
    {
     "data": {
      "text/plain": [
       "(3, 'applesbananas')"
      ]
     },
     "execution_count": 25,
     "metadata": {},
     "output_type": "execute_result"
    }
   ],
   "source": [
    "a = 1\n",
    "b = 2\n",
    "c = \"apples\"\n",
    "d = \"bananas\"\n",
    "\n",
    "a + b, c + d"
   ]
  },
  {
   "cell_type": "markdown",
   "metadata": {},
   "source": [
    "When assigning variables to _Strings_ be sure to include them in double- `\"\"` or single- `''` quotes. This way, the Python interpreter can distinguish between Strings and variable names."
   ]
  },
  {
   "cell_type": "markdown",
   "metadata": {},
   "source": [
    "### Functions\n",
    "\n",
    "In Python, a _function_ is a method of executing a command. In other words, you are telling the machine you are working on to carry out some operation.  Functions require the `def` keyword to be defined and is comprised of a name, potential arguments and a body. Here's an example:"
   ]
  },
  {
   "cell_type": "code",
   "execution_count": 13,
   "metadata": {},
   "outputs": [],
   "source": [
    "def sum(x):\n",
    "    return x + x"
   ]
  },
  {
   "cell_type": "markdown",
   "metadata": {},
   "source": [
    "We see here that the function `sum` has been define, taking in the argument `x` and adding it to itself in the body. Note that to run the function, we need to _call_ it via its name and parentheses."
   ]
  },
  {
   "cell_type": "code",
   "execution_count": 14,
   "metadata": {},
   "outputs": [
    {
     "data": {
      "text/plain": [
       "10"
      ]
     },
     "execution_count": 14,
     "metadata": {},
     "output_type": "execute_result"
    }
   ],
   "source": [
    "sum(5)"
   ]
  },
  {
   "cell_type": "markdown",
   "metadata": {},
   "source": [
    "We see that sum is taking in `5` as `x` and adding it to itself, resulting in `10`. There are also many built in functions that carry out simple operations. What does the following do?"
   ]
  },
  {
   "cell_type": "code",
   "execution_count": 15,
   "metadata": {},
   "outputs": [
    {
     "name": "stdout",
     "output_type": "stream",
     "text": [
      "Hello, world!\n"
     ]
    }
   ],
   "source": [
    "print(\"Hello, world!\")"
   ]
  },
  {
   "cell_type": "markdown",
   "metadata": {
    "collapsed": true
   },
   "source": [
    "There are a few nuances to keep in mind when using functions. See if you can ascertain the behavior seen here:"
   ]
  },
  {
   "cell_type": "code",
   "execution_count": 33,
   "metadata": {},
   "outputs": [
    {
     "name": "stdout",
     "output_type": "stream",
     "text": [
      "running mystery1(5) -> 3\n",
      "running mystery2(5) -> 3\n",
      "running mystery3(5) -> error\n",
      "running mystery3() -> 9\n"
     ]
    }
   ],
   "source": [
    "y = 9\n",
    "\n",
    "def mystery1(y):\n",
    "    return 3\n",
    "\n",
    "def mystery2(y):\n",
    "    return y\n",
    "\n",
    "def mystery3():\n",
    "    return y\n",
    "\n",
    "print(\"running mystery1(5) -> \" + str(mystery1(5)))\n",
    "print(\"running mystery2(5) -> \" + str(mystery1(5)))\n",
    "print(\"running mystery3(5) -> \" + \"error\")\n",
    "print(\"running mystery3() -> \" + str(mystery3()))"
   ]
  },
  {
   "cell_type": "markdown",
   "metadata": {
    "collapsed": true
   },
   "source": [
    "Additionally, functions can be called within functions and this lends itself to many flexible use cases. Usually this can be confusing for programmers but, for now, the next exercise will suffice."
   ]
  },
  {
   "cell_type": "code",
   "execution_count": 40,
   "metadata": {},
   "outputs": [
    {
     "name": "stdout",
     "output_type": "stream",
     "text": [
      "square(5) -> 25\n",
      "mystery4(square, 5) -> 25\n"
     ]
    }
   ],
   "source": [
    "def square(z):\n",
    "    return z * z\n",
    "\n",
    "def mystery4(func, z):\n",
    "    return func(z)\n",
    "\n",
    "print(\"square(5) -> \" + str(square(5)))\n",
    "print(\"mystery4(square, 5) -> \" + str(mystery4(square, 5)))"
   ]
  },
  {
   "cell_type": "markdown",
   "metadata": {},
   "source": [
    "### Booleans & Conditionals"
   ]
  },
  {
   "cell_type": "code",
   "execution_count": null,
   "metadata": {
    "collapsed": true
   },
   "outputs": [],
   "source": []
  }
 ],
 "metadata": {
  "kernelspec": {
   "display_name": "Python 2",
   "language": "python",
   "name": "python2"
  },
  "language_info": {
   "codemirror_mode": {
    "name": "ipython",
    "version": 2
   },
   "file_extension": ".py",
   "mimetype": "text/x-python",
   "name": "python",
   "nbconvert_exporter": "python",
   "pygments_lexer": "ipython2",
   "version": "2.7.13"
  }
 },
 "nbformat": 4,
 "nbformat_minor": 2
}
