{
 "cells": [
  {
   "cell_type": "markdown",
   "metadata": {},
   "source": [
    "# Notebook 1: Functions, Conditionals & Data Structures\n",
    "\n",
    "This is the first notebook where we try to document everything covered in the course so far. Last time we covered a bunch of shell commands. These are commands that are inputted into Command Line Interfaces like the macOS Terminal and the Windows PowerShell. Open your own CLI and try these commands out:"
   ]
  },
  {
   "cell_type": "markdown",
   "metadata": {},
   "source": [
    "`cd – Change directories.\n",
    "ls – List directory contents.\n",
    "cp – Copy a file.\n",
    "mv – Move and rename files.\n",
    "mkdir – Create new directories.`"
   ]
  },
  {
   "cell_type": "markdown",
   "metadata": {},
   "source": [
    "Starting Python off, one of the base concepts anyone learns when programming is that of _variables_. Just like in calculus, we can assign a value to a simplified and human-readable variable; think of these as shortcuts. We can then operate on these variables as we see fit."
   ]
  },
  {
   "cell_type": "code",
   "execution_count": 1,
   "metadata": {},
   "outputs": [
    {
     "data": {
      "text/plain": [
       "(3, 'applesbananas')"
      ]
     },
     "execution_count": 1,
     "metadata": {},
     "output_type": "execute_result"
    }
   ],
   "source": [
    "# Variables a, b, c, d are defined below\n",
    "a = 1\n",
    "b = 2\n",
    "c = \"apples\"\n",
    "d = \"bananas\"\n",
    "\n",
    "# Numerous operations can be carried out on variables\n",
    "a + b, c + d"
   ]
  },
  {
   "cell_type": "markdown",
   "metadata": {},
   "source": [
    "When assigning variables to _Strings_ be sure to include them in double- `\"\"` or single- `''` quotes. This way, the Python interpreter can distinguish between Strings and variable names."
   ]
  },
  {
   "cell_type": "markdown",
   "metadata": {},
   "source": [
    "### Functions\n",
    "\n",
    "In Python, a _function_ is a method of executing a command. In other words, you are telling the machine you are working on to carry out some operation.  Functions require the `def` keyword to be defined and is comprised of a name, potential arguments and a body. Here's an example:"
   ]
  },
  {
   "cell_type": "code",
   "execution_count": 2,
   "metadata": {},
   "outputs": [
    {
     "data": {
      "text/plain": [
       "10"
      ]
     },
     "execution_count": 2,
     "metadata": {},
     "output_type": "execute_result"
    }
   ],
   "source": [
    "# It's important to make function names intuitive\n",
    "# Users should be able to tell what a function does from its name\n",
    "def sum(x):\n",
    "    return x + x\n",
    "\n",
    "# After defining a function, we need to call it.\n",
    "sum(5)"
   ]
  },
  {
   "cell_type": "markdown",
   "metadata": {},
   "source": [
    "We see here that the function `sum` has been defined, taking in the argument `x` and adding it to itself in the body. There is an error in the following cell, can you spot it?"
   ]
  },
  {
   "cell_type": "code",
   "execution_count": 3,
   "metadata": {},
   "outputs": [
    {
     "ename": "NameError",
     "evalue": "name 'double' is not defined",
     "output_type": "error",
     "traceback": [
      "\u001b[0;31m---------------------------------------------------------------------------\u001b[0m",
      "\u001b[0;31mNameError\u001b[0m                                 Traceback (most recent call last)",
      "\u001b[0;32m<ipython-input-3-98093c7b21d4>\u001b[0m in \u001b[0;36m<module>\u001b[0;34m()\u001b[0m\n\u001b[0;32m----> 1\u001b[0;31m \u001b[0mdouble\u001b[0m\u001b[0;34m(\u001b[0m\u001b[0;36m5\u001b[0m\u001b[0;34m)\u001b[0m\u001b[0;34m\u001b[0m\u001b[0m\n\u001b[0m\u001b[1;32m      2\u001b[0m \u001b[0;34m\u001b[0m\u001b[0m\n\u001b[1;32m      3\u001b[0m \u001b[0;32mdef\u001b[0m \u001b[0mdouble\u001b[0m\u001b[0;34m(\u001b[0m\u001b[0mn\u001b[0m\u001b[0;34m)\u001b[0m\u001b[0;34m:\u001b[0m\u001b[0;34m\u001b[0m\u001b[0m\n\u001b[1;32m      4\u001b[0m         \u001b[0;32mreturn\u001b[0m \u001b[0mn\u001b[0m \u001b[0;34m*\u001b[0m \u001b[0;36m2\u001b[0m\u001b[0;34m\u001b[0m\u001b[0m\n",
      "\u001b[0;31mNameError\u001b[0m: name 'double' is not defined"
     ]
    }
   ],
   "source": [
    "double(5)\n",
    "\n",
    "def double(n):\n",
    "        return n * 2"
   ]
  },
  {
   "cell_type": "markdown",
   "metadata": {},
   "source": [
    "There are also many built in functions that carry out simple operations. What does the following do?"
   ]
  },
  {
   "cell_type": "code",
   "execution_count": 4,
   "metadata": {},
   "outputs": [
    {
     "name": "stdout",
     "output_type": "stream",
     "text": [
      "Hello, world!\n",
      "World! Hello\n",
      "\n",
      "Hello, world!\n",
      "Hello, world!\n",
      "Hello, world!\n"
     ]
    }
   ],
   "source": [
    "print(\"Hello, world!\")\n",
    "print(\"World! Hello\")\n",
    "print(\"\\nHello, world!\")\n",
    "\n",
    "# Using the % operator, we can substitutre values into strings\n",
    "print(\"Hello, %s\" % \"world!\")\n",
    "s = \"world!\"\n",
    "print(\"Hello, %s\" % s)"
   ]
  },
  {
   "cell_type": "markdown",
   "metadata": {
    "collapsed": true
   },
   "source": [
    "There are a few nuances to keep in mind when using functions. See if you can ascertain the behavior seen here:"
   ]
  },
  {
   "cell_type": "code",
   "execution_count": 5,
   "metadata": {},
   "outputs": [
    {
     "name": "stdout",
     "output_type": "stream",
     "text": [
      "mystery1(5) -> 3\n",
      "mystery2(5) -> 5\n",
      "mystery3(5) -> error\n",
      "mystery3() -> 9\n"
     ]
    }
   ],
   "source": [
    "y = 9\n",
    "\n",
    "def mystery1(y):\n",
    "    return 3\n",
    "\n",
    "def mystery2(y):\n",
    "    return y\n",
    "\n",
    "def mystery3():\n",
    "    return y\n",
    "\n",
    "print(\"mystery1(5) -> \" + str(mystery1(5)))\n",
    "print(\"mystery2(5) -> \" + str(mystery2(5)))\n",
    "print(\"mystery3(5) -> \" + \"error\")\n",
    "print(\"mystery3() -> \" + str(mystery3()))"
   ]
  },
  {
   "cell_type": "markdown",
   "metadata": {
    "collapsed": true
   },
   "source": [
    "Additionally, functions can be called within functions and this lends itself to many flexible use cases. Usually this can be confusing for programmers but, for now, the next exercise will suffice."
   ]
  },
  {
   "cell_type": "code",
   "execution_count": 6,
   "metadata": {},
   "outputs": [
    {
     "name": "stdout",
     "output_type": "stream",
     "text": [
      "square(5) -> 25\n",
      "mystery4(square, 5) -> 25\n"
     ]
    }
   ],
   "source": [
    "def square(z):\n",
    "    return z * z\n",
    "\n",
    "def mystery4(func, z):\n",
    "    return func(z)\n",
    "\n",
    "print(\"square(5) -> \" + str(square(5)))\n",
    "print(\"mystery4(square, 5) -> \" + str(mystery4(square, 5)))"
   ]
  },
  {
   "cell_type": "markdown",
   "metadata": {},
   "source": [
    "### Booleans & Conditionals\n",
    "\n",
    "Booleans constitute the _flow of logic_ in machine language. In simple terms: `True` and `False` statements, or _Booleans_, build up conditionals that machines act on. Remember:"
   ]
  },
  {
   "cell_type": "markdown",
   "metadata": {
    "collapsed": true
   },
   "source": [
    "`True and True = True  \n",
    "True and False = False  \n",
    "False and True = False  \n",
    "False and False = False`\n",
    "\n",
    "`True or True = True  \n",
    "True or False = True  \n",
    "False or True = True  \n",
    "False or False = False`"
   ]
  },
  {
   "cell_type": "markdown",
   "metadata": {
    "collapsed": true
   },
   "source": [
    "Other values can be used as `True` and `False`. For example, `1` can represent `True` and `0` can represent `False`. Also keep in mind that the interpreter parses conditional statements from left to right:\n",
    "* For `and` statements, it stops at the first `False` value it encounters and returns it.\n",
    "* For `and` statements, if no `False` values are encountered it continues to the end and returns the last `True` value (returns `True` by default).\n",
    "* For `or` statements, it stops at the first `True` value it encounters and returns it.\n",
    "* For `or` statements, if no `True` values are encountered it continues to the end and returns the last `False` value (returns `False` by default).\n"
   ]
  },
  {
   "cell_type": "code",
   "execution_count": 7,
   "metadata": {},
   "outputs": [
    {
     "name": "stdout",
     "output_type": "stream",
     "text": [
      "0\n",
      "2\n",
      "1\n"
     ]
    }
   ],
   "source": [
    "# True and False\n",
    "print(1 and 0)\n",
    "\n",
    "# True or False\n",
    "print(2 or 0)\n",
    "\n",
    "# True or `error`\n",
    "print(1 or 1/0)"
   ]
  },
  {
   "cell_type": "code",
   "execution_count": 8,
   "metadata": {},
   "outputs": [
    {
     "name": "stdout",
     "output_type": "stream",
     "text": [
      "true\n",
      "false\n",
      "true\n"
     ]
    }
   ],
   "source": [
    "if (2 or 0):\n",
    "    print(\"true\")\n",
    "else:\n",
    "    print(\"false\")\n",
    "\n",
    "if (2 and 0):\n",
    "    print(\"true\")\n",
    "else:\n",
    "    print(\"false\")\n",
    "\n",
    "# The `not` reverses the Boolean\n",
    "if not (2 and 0):\n",
    "    print(\"true\")\n",
    "else:\n",
    "    print(\"false\")"
   ]
  },
  {
   "cell_type": "markdown",
   "metadata": {
    "collapsed": true
   },
   "source": [
    "Check out this difficult example:"
   ]
  },
  {
   "cell_type": "code",
   "execution_count": 9,
   "metadata": {},
   "outputs": [
    {
     "name": "stdout",
     "output_type": "stream",
     "text": [
      "2014 is not a leap year.\n",
      "2012 is a leap year.\n"
     ]
    }
   ],
   "source": [
    "def leap_year(year):    \n",
    "    if ((year % 400 == 0) or ((year % 4 == 0) and (year % 100 != 0))):\n",
    "        print(str(year) + \" is a leap year.\")\n",
    "    else:\n",
    "        print(str(year) + \" is not a leap year.\");\n",
    "\n",
    "leap_year(2014)\n",
    "leap_year(2012)"
   ]
  }
 ],
 "metadata": {
  "kernelspec": {
   "display_name": "Python 2",
   "language": "python",
   "name": "python2"
  },
  "language_info": {
   "codemirror_mode": {
    "name": "ipython",
    "version": 2
   },
   "file_extension": ".py",
   "mimetype": "text/x-python",
   "name": "python",
   "nbconvert_exporter": "python",
   "pygments_lexer": "ipython2",
   "version": "2.7.13"
  }
 },
 "nbformat": 4,
 "nbformat_minor": 2
}
